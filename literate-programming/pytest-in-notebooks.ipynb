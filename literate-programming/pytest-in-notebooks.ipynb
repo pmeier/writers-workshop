{
 "cells": [
  {
   "cell_type": "markdown",
   "id": "liable-stomach",
   "metadata": {},
   "source": [
    "# Running `pytest` in notebooks\n",
    "\n",
    "Notebooks are an awesome way to tell stories about code. But sometimes the story that you want to tell is not about the code itself, but rather about the tools handling it. One such example is trying to showcase the popular test framework [`pytest`](https://pytest.org) pr possibly a plugin that you wrote for it. Fortunately, the Python community got you covered:\n",
    "\n",
    "In this notebook we take a quick look at [`ipytest`](https://github.com/chmp/ipytest) and how it is used. It is hosted on [`PyPI`](https://pypi.org/project/ipytest/) so installing it is as easy as `pip install`'ing it:"
   ]
  },
  {
   "cell_type": "code",
   "execution_count": 1,
   "id": "a7603fce-e93c-4f98-8977-0320b7e13ecc",
   "metadata": {},
   "outputs": [],
   "source": [
    "%%capture\n",
    "\n",
    "!pip install ipytest"
   ]
  },
  {
   "cell_type": "markdown",
   "id": "adjustable-transparency",
   "metadata": {},
   "source": [
    "Within each notebook, there is only a minimal setup. [`ipytest.autoconfig()`](https://github.com/chmp/ipytest#ipytestautoconfig) sets some sensible defaults, but each parameter can also be overwritten. Alternatively, you can use [`iyptest.config()`](https://github.com/chmp/ipytest#ipytestconfig) to start with an empty configuration if most of the defaults do not fit your use case."
   ]
  },
  {
   "cell_type": "code",
   "execution_count": 2,
   "id": "soviet-shoot",
   "metadata": {},
   "outputs": [],
   "source": [
    "import ipytest\n",
    "ipytest.autoconfig()"
   ]
  },
  {
   "cell_type": "markdown",
   "id": "773f2643-5d84-4b95-9ed9-f794a90d15bc",
   "metadata": {},
   "source": [
    "Afterwards, we have access to the [`run_pytest`](https://github.com/chmp/ipytest#run_pytest-) [cell-magic](https://ipython.readthedocs.io/en/stable/interactive/magics.html#cell-magics), which lets us run `pytest` and reports back the results:"
   ]
  },
  {
   "cell_type": "code",
   "execution_count": 3,
   "id": "eligible-running",
   "metadata": {},
   "outputs": [
    {
     "name": "stdout",
     "output_type": "stream",
     "text": [
      ".F                                                                       [100%]\n",
      "=================================== FAILURES ===================================\n",
      "___________________________________ test_baz ___________________________________\n",
      "\n",
      "    def test_baz():\n",
      ">           assert \"baz\" == \"bar\"\n",
      "E           AssertionError: assert 'baz' == 'bar'\n",
      "E             - bar\n",
      "E             + baz\n",
      "\n",
      "<ipython-input-3-4d838d46c768>:6: AssertionError\n",
      "=========================== short test summary info ============================\n",
      "FAILED tmpth9tsj87.py::test_baz - AssertionError: assert 'baz' == 'bar'\n",
      "1 failed, 1 passed in 0.04s\n"
     ]
    }
   ],
   "source": [
    "%%run_pytest[clean]\n",
    "\n",
    "class TestFoo:\n",
    "    def test_foo(self):\n",
    "        assert True\n",
    "        \n",
    "def test_baz():\n",
    "        assert \"baz\" == \"bar\""
   ]
  },
  {
   "cell_type": "markdown",
   "id": "round-personality",
   "metadata": {},
   "source": [
    "You may have noticed the additional [`[clean]`](https://github.com/chmp/ipytest#run_pytestclean-) option. If this is omitted, `run_pytest` will also pick up all previously defined tests:"
   ]
  },
  {
   "cell_type": "code",
   "execution_count": 4,
   "id": "infinite-affiliate",
   "metadata": {},
   "outputs": [
    {
     "name": "stdout",
     "output_type": "stream",
     "text": [
      ".Fs                                                                      [100%]\n",
      "=================================== FAILURES ===================================\n",
      "___________________________________ test_baz ___________________________________\n",
      "\n",
      "    def test_baz():\n",
      ">           assert \"baz\" == \"bar\"\n",
      "E           AssertionError: assert 'baz' == 'bar'\n",
      "E             - bar\n",
      "E             + baz\n",
      "\n",
      "<ipython-input-3-4d838d46c768>:6: AssertionError\n",
      "=========================== short test summary info ============================\n",
      "FAILED tmpckwh1zed.py::test_baz - AssertionError: assert 'baz' == 'bar'\n",
      "1 failed, 1 passed, 1 skipped in 0.01s\n"
     ]
    }
   ],
   "source": [
    "%%run_pytest\n",
    "\n",
    "import pytest\n",
    "\n",
    "\n",
    "@pytest.mark.skip\n",
    "def test_spam():\n",
    "    pass"
   ]
  },
  {
   "cell_type": "markdown",
   "id": "87e7405c-9bae-415e-af7d-1729c65ed866",
   "metadata": {},
   "source": [
    "All additional arguments passed to `run_pytest` will be directly passed to `pytest`:"
   ]
  },
  {
   "cell_type": "code",
   "execution_count": 5,
   "id": "8ccf4bb9-d423-4a37-9672-a00094b79375",
   "metadata": {},
   "outputs": [
    {
     "name": "stdout",
     "output_type": "stream",
     "text": [
      "tmp17d6l386.py::TestFoo::test_foo\n",
      "tmp17d6l386.py::test_baz\n",
      "tmp17d6l386.py::test_spam\n",
      "\n",
      "3 tests collected in 0.00s\n"
     ]
    }
   ],
   "source": [
    "%%run_pytest --collect-only\n",
    "\n",
    "pass"
   ]
  },
  {
   "cell_type": "markdown",
   "id": "be9edacb-1f7c-4ca3-a2e0-5242d29291e3",
   "metadata": {},
   "source": [
    "With the `addopts` parameter you can configure `ipytest` to add some `pytest` flags to all calls of `run_pytest`:"
   ]
  },
  {
   "cell_type": "code",
   "execution_count": 6,
   "id": "5140100d-0954-40e2-ba37-855aeae3f52a",
   "metadata": {},
   "outputs": [],
   "source": [
    "ipytest.autoconfig(addopts=(\"--quiet\", \"--collect-only\"))"
   ]
  },
  {
   "cell_type": "code",
   "execution_count": 7,
   "id": "67206992-6243-4179-8db5-62a236c438d4",
   "metadata": {},
   "outputs": [
    {
     "name": "stdout",
     "output_type": "stream",
     "text": [
      "tmp0ctpkc2i.py::TestFoo::test_foo\n",
      "tmp0ctpkc2i.py::test_baz\n",
      "tmp0ctpkc2i.py::test_spam\n",
      "\n",
      "3 tests collected in 0.00s\n"
     ]
    }
   ],
   "source": [
    "%%run_pytest\n",
    "\n",
    "pass"
   ]
  },
  {
   "cell_type": "markdown",
   "id": "bb16fd81-3fd7-44d3-8c1d-fe3c184dfb18",
   "metadata": {},
   "source": [
    "If you have a `pytest` configuration file, you can use `addopts` to register it with the [`-c` flag](https://docs.pytest.org/en/6.2.x/reference.html#command-line-flags):"
   ]
  },
  {
   "cell_type": "code",
   "execution_count": 8,
   "id": "e86c0419-ffc8-464d-8df2-45532ffa4750",
   "metadata": {},
   "outputs": [],
   "source": [
    "ipytest.autoconfig(addopts=(\"-c\", \"pytest.ini\"))"
   ]
  },
  {
   "cell_type": "markdown",
   "id": "05c2a9dc-4f0d-4ffe-8b45-7543ece361e1",
   "metadata": {},
   "source": [
    "There are many more options that we didn't cover here, so make sure to checkout [`ipytest`'s README](https://github.com/chmp/ipytest#readme)."
   ]
  }
 ],
 "metadata": {
  "kernelspec": {
   "display_name": "Python 3",
   "language": "python",
   "name": "python3"
  },
  "language_info": {
   "codemirror_mode": {
    "name": "ipython",
    "version": 3
   },
   "file_extension": ".py",
   "mimetype": "text/x-python",
   "name": "python",
   "nbconvert_exporter": "python",
   "pygments_lexer": "ipython3",
   "version": "3.8.8"
  }
 },
 "nbformat": 4,
 "nbformat_minor": 5
}
