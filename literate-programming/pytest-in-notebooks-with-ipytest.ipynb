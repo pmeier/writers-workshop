{
 "cells": [
  {
   "cell_type": "markdown",
   "id": "liable-stomach",
   "metadata": {},
   "source": [
    "# Running [`pytest`] in notebooks with [`ipytest`]\n",
    "\n",
    "For many developers notebooks are a way to prototype their ideas in an informal setting. But sometimes the russion proverb \"Nothing is more permanent than a temporary solution\" applies and the notebook outgrows its initial purpose. [Tony Fast](https://github.com/tonyfast) recently published a [blog post](https://www.quansight.com/post/formal-interactive-notebook-testing) about how to mature a notebook by running [`doctest`](https://docs.python.org/3/library/doctest.html)'s or [`unittest`](https://docs.python.org/3/library/unittest.html)'s inside it. \n",
    "\n",
    "This notebook takes this a step further: we take a look at [`ipytest`] by [Christopher Prohm](https://github.com/chmp) and how it is used to run [`pytest`] in notebooks.\n",
    "\n",
    "[`pytest`]: https://pytest.org\n",
    "[`ipytest`]: https://github.com/chmp/ipytest"
   ]
  },
  {
   "cell_type": "markdown",
   "id": "29b6029a-400d-4a8c-9632-5dfdb0059a0a",
   "metadata": {},
   "source": [
    "## Installation\n",
    "\n",
    "[`ipytest`] is hosted on [PyPI](https://pypi.org/project/ipytest/) so installing it is as easy as `pip install`'ing it:\n",
    "\n",
    "[`ipytest`]: https://github.com/chmp/ipytest"
   ]
  },
  {
   "cell_type": "markdown",
   "id": "dcf15adf-049c-4ada-920f-f459153ac9af",
   "metadata": {},
   "source": [
    "    pip install ipytest"
   ]
  },
  {
   "cell_type": "markdown",
   "id": "adjustable-transparency",
   "metadata": {},
   "source": [
    "## Configuration\n",
    "\n",
    "Within each notebook, there is only a minimal setup. [`ipytest.autoconfig()`](https://github.com/chmp/ipytest#ipytestautoconfig) sets some sensible defaults, but each parameter can also be overwritten. Alternatively, you can use [`iyptest.config()`](https://github.com/chmp/ipytest#ipytestconfig) to start with an empty configuration if most of the defaults do not fit your use case."
   ]
  },
  {
   "cell_type": "code",
   "execution_count": 1,
   "id": "soviet-shoot",
   "metadata": {},
   "outputs": [],
   "source": [
    "import ipytest\n",
    "ipytest.autoconfig()"
   ]
  },
  {
   "cell_type": "markdown",
   "id": "773f2643-5d84-4b95-9ed9-f794a90d15bc",
   "metadata": {},
   "source": [
    "## Usage\n",
    "\n",
    "[`ipytest`] provides the [`run_pytest`](https://github.com/chmp/ipytest#run_pytest-) [cell-magic](https://ipython.readthedocs.io/en/stable/interactive/magics.html#cell-magics), which lets us run [`pytest`] and reports back the results:\n",
    "\n",
    "[`pytest`]: https://pytest.org\n",
    "[`ipytest`]: https://github.com/chmp/ipytest\n",
    "[`run_pytest`]: https://github.com/chmp/ipytest#run_pytest-"
   ]
  },
  {
   "cell_type": "code",
   "execution_count": 2,
   "id": "eligible-running",
   "metadata": {},
   "outputs": [
    {
     "name": "stdout",
     "output_type": "stream",
     "text": [
      ".F                                                                                                            [100%]\n",
      "===================================================== FAILURES ======================================================\n",
      "_____________________________________________________ test_baz ______________________________________________________\n",
      "\n",
      "    def test_baz():\n",
      ">           assert \"baz\" == \"bar\"\n",
      "E           AssertionError: assert 'baz' == 'bar'\n",
      "E             - bar\n",
      "E             + baz\n",
      "\n",
      "<ipython-input-2-4d838d46c768>:6: AssertionError\n",
      "============================================== short test summary info ==============================================\n",
      "FAILED tmpz3bkhsvm.py::test_baz - AssertionError: assert 'baz' == 'bar'\n",
      "1 failed, 1 passed in 0.04s\n"
     ]
    }
   ],
   "source": [
    "%%run_pytest[clean]\n",
    "\n",
    "class TestFoo:\n",
    "    def test_foo(self):\n",
    "        assert True\n",
    "        \n",
    "def test_baz():\n",
    "        assert \"baz\" == \"bar\""
   ]
  },
  {
   "cell_type": "markdown",
   "id": "round-personality",
   "metadata": {},
   "source": [
    "You may have noticed the additional [`[clean]`](https://github.com/chmp/ipytest#run_pytestclean-) option. If this is omitted, [`run_pytest`] will also pick up all previously defined tests in addition to the ones defined in the current cell:\n",
    "\n",
    "[`pytest`]: https://pytest.org\n",
    "[`run_pytest`]: https://github.com/chmp/ipytest#run_pytest-"
   ]
  },
  {
   "cell_type": "code",
   "execution_count": 3,
   "id": "infinite-affiliate",
   "metadata": {},
   "outputs": [
    {
     "name": "stdout",
     "output_type": "stream",
     "text": [
      ".Fs                                                                                                           [100%]\n",
      "===================================================== FAILURES ======================================================\n",
      "_____________________________________________________ test_baz ______________________________________________________\n",
      "\n",
      "    def test_baz():\n",
      ">           assert \"baz\" == \"bar\"\n",
      "E           AssertionError: assert 'baz' == 'bar'\n",
      "E             - bar\n",
      "E             + baz\n",
      "\n",
      "<ipython-input-2-4d838d46c768>:6: AssertionError\n",
      "============================================== short test summary info ==============================================\n",
      "FAILED tmppn9pv1t7.py::test_baz - AssertionError: assert 'baz' == 'bar'\n",
      "1 failed, 1 passed, 1 skipped in 0.01s\n"
     ]
    }
   ],
   "source": [
    "%%run_pytest\n",
    "\n",
    "import pytest\n",
    "\n",
    "\n",
    "@pytest.mark.skip\n",
    "def test_spam():\n",
    "    pass"
   ]
  },
  {
   "cell_type": "markdown",
   "id": "87e7405c-9bae-415e-af7d-1729c65ed866",
   "metadata": {},
   "source": [
    "### [`pytest`] configuration\n",
    "\n",
    "[`pytest`] is [highly configurable](https://docs.pytest.org/en/6.2.x/reference.html#command-line-flags). All additional arguments passed to [`run_pytest`] will be directly forwarded to [`pytest`]:\n",
    "\n",
    "[`pytest`]: https://pytest.org\n",
    "[`run_pytest`]: https://github.com/chmp/ipytest#run_pytest-"
   ]
  },
  {
   "cell_type": "code",
   "execution_count": 4,
   "id": "8ccf4bb9-d423-4a37-9672-a00094b79375",
   "metadata": {},
   "outputs": [
    {
     "name": "stdout",
     "output_type": "stream",
     "text": [
      "tmpsjkw3k_9.py::TestFoo::test_foo\n",
      "tmpsjkw3k_9.py::test_baz\n",
      "tmpsjkw3k_9.py::test_spam\n",
      "\n",
      "3 tests collected in 0.00s\n"
     ]
    }
   ],
   "source": [
    "%%run_pytest --collect-only\n",
    "\n",
    "pass"
   ]
  },
  {
   "cell_type": "markdown",
   "id": "be9edacb-1f7c-4ca3-a2e0-5242d29291e3",
   "metadata": {},
   "source": [
    "With the [`addopts`](https://github.com/chmp/ipytest#ipytestconfig) parameter you can configure [`ipytest`] to add some [`pytest`] flags to all calls of [`run_pytest`]:\n",
    "\n",
    "[`pytest`]: https://pytest.org\n",
    "[`ipytest`]: https://github.com/chmp/ipytest\n",
    "[`run_pytest`]: https://github.com/chmp/ipytest#run_pytest-"
   ]
  },
  {
   "cell_type": "code",
   "execution_count": 5,
   "id": "5140100d-0954-40e2-ba37-855aeae3f52a",
   "metadata": {},
   "outputs": [],
   "source": [
    "ipytest.autoconfig(addopts=(\"--quiet\", \"--collect-only\"))"
   ]
  },
  {
   "cell_type": "code",
   "execution_count": 6,
   "id": "67206992-6243-4179-8db5-62a236c438d4",
   "metadata": {},
   "outputs": [
    {
     "name": "stdout",
     "output_type": "stream",
     "text": [
      "tmpn8gyvsnt.py::TestFoo::test_foo\n",
      "tmpn8gyvsnt.py::test_baz\n",
      "tmpn8gyvsnt.py::test_spam\n",
      "\n",
      "3 tests collected in 0.00s\n"
     ]
    }
   ],
   "source": [
    "%%run_pytest\n",
    "\n",
    "pass"
   ]
  },
  {
   "cell_type": "markdown",
   "id": "bb16fd81-3fd7-44d3-8c1d-fe3c184dfb18",
   "metadata": {},
   "source": [
    "Finally, if you have a local [`pytest` configuration file](https://docs.pytest.org/en/6.2.x/reference.html#configuration-options), you can use [`addopts`](https://github.com/chmp/ipytest#ipytestconfig) to register it with the [`-c` flag](https://docs.pytest.org/en/6.2.x/reference.html#command-line-flags):\n",
    "\n",
    "[`pytest`]: https://pytest.org"
   ]
  },
  {
   "cell_type": "markdown",
   "id": "b428fc88-f5a5-422b-9d81-af3ad6b80f50",
   "metadata": {},
   "source": [
    "    ipytest.autoconfig(addopts=(\"-c\", \"/path/to/my/pytest.ini\"))"
   ]
  },
  {
   "cell_type": "markdown",
   "id": "05c2a9dc-4f0d-4ffe-8b45-7543ece361e1",
   "metadata": {},
   "source": [
    "## Conclusion\n",
    "\n",
    "This notebook showcased [`ipytest`] and its usage. If you are familiar with [`pytest`] it is a handy way to quickly mature your notebook from an initial informal prototype. Furthermore, it enables you to showcase `pytest` itself or a plugin that you wrote for it from the comfort of a notebook.\n",
    "\n",
    "There are more use cases and configuration options of [`ipytest`] that we didn't cover here, so make sure to checkout its [README](https://github.com/chmp/ipytest#readme).\n",
    "\n",
    "[`pytest`]: https://pytest.org\n",
    "[`ipytest`]: https://github.com/chmp/ipytest"
   ]
  }
 ],
 "metadata": {
  "kernelspec": {
   "display_name": "Python 3",
   "language": "python",
   "name": "python3"
  },
  "language_info": {
   "codemirror_mode": {
    "name": "ipython",
    "version": 3
   },
   "file_extension": ".py",
   "mimetype": "text/x-python",
   "name": "python",
   "nbconvert_exporter": "python",
   "pygments_lexer": "ipython3",
   "version": "3.8.8"
  }
 },
 "nbformat": 4,
 "nbformat_minor": 5
}
