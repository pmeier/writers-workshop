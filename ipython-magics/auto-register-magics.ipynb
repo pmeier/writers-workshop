{
 "cells": [
  {
   "cell_type": "markdown",
   "id": "7867412c-1b2f-409e-b518-afd8628d6252",
   "metadata": {},
   "source": [
    "# Auto-registering [`IPython`] magics\n",
    "\n",
    "[`IPython`] uses the concepts of [magics](https://ipython.readthedocs.io/en/stable/interactive/magics.html), which, as the name implies, seem like magic if one does not know how they work. In this post we will be trying to push the boundaries a little by creating our own [`IPython`] magic that is able to auto-register new magics without the user needing to explicitly do so. \n",
    "\n",
    "In particular we want to register all functions defined in a cell that match the signature of a magic by invoking a cell magic that we are about to define. This new cell magic needs to be able to perform the following three steps:\n",
    "\n",
    "1. It needs to extract comprised functions from the cell content.\n",
    "2. It needs to identify the corresponding magic type for each given function.\n",
    "3. It needs to register the correct [`IPython`] magic based on the type.\n",
    "\n",
    "[`IPython`]: https://ipython.org/"
   ]
  },
  {
   "cell_type": "markdown",
   "id": "de7561f1-040d-41b6-a60f-73728dc961ec",
   "metadata": {},
   "source": [
    "We start of by importing everything we need. Apart from [`IPython`] we will use [`enum`](https://docs.python.org/3/library/enum.html) to differentiate between the magic types and [`inspect`](https://docs.python.org/3/library/inspect.html) to examine live objects such as the the functions to be registered.\n",
    "\n",
    "[`IPython`]: https://ipython.org/"
   ]
  },
  {
   "cell_type": "code",
   "execution_count": 1,
   "id": "595ee5cd-9b61-4eba-a7d0-49f384b91801",
   "metadata": {},
   "outputs": [],
   "source": [
    "import enum\n",
    "import inspect\n",
    "from typing import Callable, Dict, Optional\n",
    "\n",
    "from IPython.core.magic import register_line_magic, register_cell_magic, register_line_cell_magic"
   ]
  },
  {
   "cell_type": "markdown",
   "id": "f78dc576-d692-440b-ab12-ab868edd173c",
   "metadata": {},
   "source": [
    "## Extract functions from the cell content"
   ]
  },
  {
   "cell_type": "markdown",
   "id": "d3c6dc9d-ad7c-47a5-910d-b15fe9a1127d",
   "metadata": {},
   "source": [
    "In the first step, we need to extract comprised functions from the cell content. Since the cell content is available as `str`'ing, we [`exec`](https://docs.python.org/3/library/functions.html#exec)'ute it. We are only interested in functions, so we use [`inspect.isfunction()`](https://docs.python.org/3/library/inspect.html#inspect.isfunction) to filter them out."
   ]
  },
  {
   "cell_type": "code",
   "execution_count": 4,
   "id": "312e613d-a1ec-4125-941f-4eb5560d85fb",
   "metadata": {},
   "outputs": [],
   "source": [
    "def get_public_functions(cell: str) -> Dict[str, Callable]:\n",
    "    content = {}\n",
    "    exec(cell, None, content)\n",
    "    return {name: fn for name, fn in content.items() if inspect.isfunction(fn)}"
   ]
  },
  {
   "cell_type": "markdown",
   "id": "6ea072c6-2c29-458e-b1a7-13784c3f7f9c",
   "metadata": {},
   "source": [
    "We can test this with a simple example:"
   ]
  },
  {
   "cell_type": "code",
   "execution_count": 5,
   "id": "b4bc9ece-26a0-4910-914e-2758b886e6ad",
   "metadata": {},
   "outputs": [],
   "source": [
    "cell = \"\"\"\n",
    "foo = None\n",
    "\n",
    "def bar():\n",
    "    return \"baz\"\n",
    "\"\"\""
   ]
  },
  {
   "cell_type": "markdown",
   "id": "cf192375-2fa3-490c-9f7e-32b45f0fbffa",
   "metadata": {},
   "source": [
    "`get_public_functions(cell)` should return a function `bar` that returns the `str`'ing `\"baz\"` when called. The variable `foo` should not be returned, since it is not a function."
   ]
  },
  {
   "cell_type": "code",
   "execution_count": 6,
   "id": "5975876e-81d2-4bf2-a68b-9a0699f4612b",
   "metadata": {},
   "outputs": [],
   "source": [
    "public_functions = get_public_functions(cell)\n",
    "\n",
    "assert \"foo\" not in public_functions\n",
    "assert \"bar\" in public_functions\n",
    "\n",
    "bar = public_functions[\"bar\"]\n",
    "assert bar() == \"baz\""
   ]
  },
  {
   "cell_type": "markdown",
   "id": "cda59215-401a-4cfa-9a17-1f1e4991ac60",
   "metadata": {},
   "source": [
    "## Identify the magic type"
   ]
  },
  {
   "cell_type": "markdown",
   "id": "7c5b47e7-1c9a-434a-9a98-b3bdf14f97b5",
   "metadata": {},
   "source": [
    "In the second step we need to identify the corresponding magic type of a given function. Before we get to that, we first define an [`enum.Enum`](https://docs.python.org/3/library/enum.html?highlight=enum#enum.Enum) that makes it easy to work with multiple discrete values."
   ]
  },
  {
   "cell_type": "code",
   "execution_count": 10,
   "id": "a8f8fab6-10af-43ee-bc1c-7b23e09a3f03",
   "metadata": {},
   "outputs": [],
   "source": [
    "class MagicType(enum.Enum):\n",
    "    LINE = enum.auto()\n",
    "    CELL = enum.auto()\n",
    "    LINE_CELL = enum.auto()"
   ]
  },
  {
   "cell_type": "markdown",
   "id": "de66cd4a-db3c-4905-95bc-df26c5af5dda",
   "metadata": {},
   "source": [
    "To differentiate between the different magic types we need to look at their signature:\n",
    "\n",
    "- Line magics take a single argument `line` without a default.\n",
    "- Cell magics take two arguments `line, cell` without defaults.\n",
    "- Line/cell magics take two arguments `line, cell=None` where the second defaults to `None`.\n",
    "\n",
    "These rules can be implemented straight forward with [`inspect.getfullargspec()`](https://docs.python.org/3/library/inspect.html#inspect.getfullargspec) that lets us examine the signature of functions."
   ]
  },
  {
   "cell_type": "code",
   "execution_count": 11,
   "id": "0d6407c5-2bb9-4424-babc-1503826fbdcf",
   "metadata": {},
   "outputs": [],
   "source": [
    "def detect_magic_type(fn: Callable) -> Optional[MagicType]:\n",
    "    spec = inspect.getfullargspec(fn)\n",
    "    if len(spec.args) == 1:\n",
    "        if spec.defaults is None:\n",
    "            return MagicType.LINE\n",
    "    elif len(spec.args) == 2:\n",
    "        if spec.defaults is None:\n",
    "            return MagicType.CELL\n",
    "        elif len(spec.defaults) == 1 and spec.defaults[-1] is None:\n",
    "            return MagicType.LINE_CELL\n",
    "        \n",
    "    # The function does not fit the IPython magic scheme\n",
    "    return None"
   ]
  },
  {
   "cell_type": "markdown",
   "id": "65aa89bf-36b4-4126-8522-b20723e2d899",
   "metadata": {},
   "source": [
    "Lets also test this with a simple example:"
   ]
  },
  {
   "cell_type": "code",
   "execution_count": 12,
   "id": "177dd432-12de-4751-9a7b-f7edf636303d",
   "metadata": {},
   "outputs": [],
   "source": [
    "def my_line_magic(line):\n",
    "    pass\n",
    "\n",
    "def my_cell_magic(line, cell):\n",
    "    pass\n",
    "\n",
    "def my_line_cell_magic(line, cell=None):\n",
    "    pass\n",
    "\n",
    "def my_other_function():\n",
    "    pass"
   ]
  },
  {
   "cell_type": "markdown",
   "id": "ccf74f92-c7a0-49c1-8ec6-344119628279",
   "metadata": {},
   "source": [
    "`detect_magic_type` should return the correct `MagicType` for `my_line_magic`, `my_cell_magic`, and `my_line_cell_magic`. At the same time, it should return `None` for `my_other_function`, since its signature does not fit the scheme."
   ]
  },
  {
   "cell_type": "code",
   "execution_count": 13,
   "id": "2a03a8b0-5fb5-4205-9803-16308e4e3cfe",
   "metadata": {},
   "outputs": [],
   "source": [
    "assert detect_magic_type(my_line_magic) == MagicType.LINE\n",
    "assert detect_magic_type(my_cell_magic) == MagicType.CELL\n",
    "assert detect_magic_type(my_line_cell_magic) == MagicType.LINE_CELL\n",
    "assert detect_magic_type(my_other_function) is None"
   ]
  },
  {
   "cell_type": "markdown",
   "id": "92d8de15-1cf4-46d6-ae75-6d92d36f215e",
   "metadata": {},
   "source": [
    "## Register a function as magic"
   ]
  },
  {
   "cell_type": "code",
   "execution_count": null,
   "id": "fe0b43d3-641d-4e4e-aa57-763afea963ee",
   "metadata": {},
   "outputs": [],
   "source": [
    "In the third step, we need to register a function as [`IPython`] magic based on its `MagicType`."
   ]
  },
  {
   "cell_type": "code",
   "execution_count": 16,
   "id": "90d11129-faa3-489e-90df-e509d5a58d4d",
   "metadata": {},
   "outputs": [],
   "source": [
    "registrars = {\n",
    "    MagicType.LINE: register_line_magic,\n",
    "    MagicType.CELL: register_cell_magic,\n",
    "    MagicType.LINE_CELL: register_line_cell_magic,\n",
    "}\n",
    "\n",
    "def register_magic(fn: Callable, magic_type: MagicType) -> None:\n",
    "    try:\n",
    "        registrars[magic_type](fn)\n",
    "    except KeyError as error:\n",
    "        raise RuntimeError(f\"Unknown magic type {magic_type}\") from error"
   ]
  },
  {
   "cell_type": "markdown",
   "id": "bfbd4300-eda0-48bc-8c3a-f9c0ac644356",
   "metadata": {},
   "source": [
    "Lets put this to a test:"
   ]
  },
  {
   "cell_type": "code",
   "execution_count": 18,
   "id": "e4222ff5-a677-4b18-bc9a-17a64ce34def",
   "metadata": {},
   "outputs": [],
   "source": [
    "def my_line_magic(line):\n",
    "    print(\"This is my line magic!\")"
   ]
  },
  {
   "cell_type": "markdown",
   "id": "77a77e4c-4fb7-451a-b48d-feea7d13f43e",
   "metadata": {},
   "source": [
    "Calling `register_magic` with `my_line_magic` should give us access to the `%my_line_magic` magic that prints `\"This is my line magic!\"` when used."
   ]
  },
  {
   "cell_type": "code",
   "execution_count": 19,
   "id": "a44ec078-7ed5-4b7b-9e68-f7e3a5ed267f",
   "metadata": {},
   "outputs": [
    {
     "name": "stdout",
     "output_type": "stream",
     "text": [
      "This is my line magic!\n"
     ]
    }
   ],
   "source": [
    "register_magic(my_line_magic, MagicType.LINE)\n",
    "\n",
    "%my_line_magic"
   ]
  },
  {
   "cell_type": "markdown",
   "id": "3946a2b8-8db7-424c-a3a9-a8a7e6fd5453",
   "metadata": {},
   "source": [
    "## Putting everything together"
   ]
  },
  {
   "cell_type": "markdown",
   "id": "d1bd27b4-13cd-4825-815d-e59fc705443c",
   "metadata": {},
   "source": [
    "Finally, we can put every piece together by creating a custom cell magic that performs the three steps for us."
   ]
  },
  {
   "cell_type": "code",
   "execution_count": null,
   "id": "707d03c9-3242-413c-be2e-370e6f6890e8",
   "metadata": {},
   "outputs": [],
   "source": [
    "@register_cell_magic\n",
    "def auto_register_magics(line: str, cell: str) -> None:\n",
    "    public_functions = get_public_functions(cell)\n",
    "    \n",
    "    for name, fn in public_functions.items():\n",
    "        magic_type = detect_magic_type(fn)\n",
    "        if not magic_type:\n",
    "            continue\n",
    "            \n",
    "        register_magic(fn, magic_type)"
   ]
  },
  {
   "cell_type": "markdown",
   "id": "911deeb1-f8a6-4c05-889e-a77bdeec4bae",
   "metadata": {},
   "source": [
    "Invoking the `%%auto_register_magics` cell magic should now automatically register all comprised functions as magic with the correct type:"
   ]
  },
  {
   "cell_type": "code",
   "execution_count": 22,
   "id": "ba8c2b6b-16a9-40f8-92ec-5af5d4b7c62f",
   "metadata": {},
   "outputs": [],
   "source": [
    "%%auto_register_magics\n",
    "\n",
    "def my_second_line_magic(line):\n",
    "    print(\"This is my second line magic!\")\n",
    "\n",
    "def my_cell_magic(line, cell):\n",
    "    print(\"This is my cell magic!\")\n",
    "\n",
    "def my_line_cell_magic(line, cell=None):\n",
    "    print(f\"This is my line/cell magic! It was used as {'line' if cell is None else 'cell'} magic!\")"
   ]
  },
  {
   "cell_type": "markdown",
   "id": "63428658-ded4-434b-9f37-7670f9628660",
   "metadata": {},
   "source": [
    "Lets see if it worked:"
   ]
  },
  {
   "cell_type": "code",
   "execution_count": 24,
   "id": "98c7fac1-73c3-48c5-8a3a-6f82f1c9545d",
   "metadata": {},
   "outputs": [
    {
     "name": "stdout",
     "output_type": "stream",
     "text": [
      "This is my second line magic!\n"
     ]
    }
   ],
   "source": [
    "%my_second_line_magic"
   ]
  },
  {
   "cell_type": "code",
   "execution_count": 51,
   "id": "3e143c6b-b66a-47a0-895a-3f258a3dfb35",
   "metadata": {},
   "outputs": [
    {
     "name": "stdout",
     "output_type": "stream",
     "text": [
      "This is my cell magic!\n"
     ]
    }
   ],
   "source": [
    "%%my_cell_magic\n",
    "\n",
    "pass"
   ]
  },
  {
   "cell_type": "code",
   "execution_count": 52,
   "id": "5c36eab7-f2db-4c89-bfa0-14bb96a34c58",
   "metadata": {},
   "outputs": [
    {
     "name": "stdout",
     "output_type": "stream",
     "text": [
      "This is my line/cell magic! It was used as line magic!\n"
     ]
    }
   ],
   "source": [
    "%my_line_cell_magic"
   ]
  },
  {
   "cell_type": "code",
   "execution_count": 53,
   "id": "d98a4ae6-a912-4690-9c62-e48588ce75f7",
   "metadata": {},
   "outputs": [
    {
     "name": "stdout",
     "output_type": "stream",
     "text": [
      "This is my line/cell magic! It was used as cell magic!\n"
     ]
    }
   ],
   "source": [
    "%%my_line_cell_magic\n",
    "\n",
    "pass"
   ]
  },
  {
   "cell_type": "markdown",
   "id": "6edc8afd-d9b6-464c-9cab-64579555af72",
   "metadata": {},
   "source": [
    "Yay, it worked!"
   ]
  },
  {
   "cell_type": "markdown",
   "id": "c4782afc-13fa-4b3f-9c5f-cbfa9ef1f339",
   "metadata": {},
   "source": [
    "## Conclusion\n",
    "\n",
    "This notebook showcases how to push the boundaries of [`IPython`] magics, by showcasing how a magic can automatically create new magics. Of course the approach used here is a proof-of-concept and not robust enough for wide-spread used."
   ]
  }
 ],
 "metadata": {
  "kernelspec": {
   "display_name": "Python 3",
   "language": "python",
   "name": "python3"
  },
  "language_info": {
   "codemirror_mode": {
    "name": "ipython",
    "version": 3
   },
   "file_extension": ".py",
   "mimetype": "text/x-python",
   "name": "python",
   "nbconvert_exporter": "python",
   "pygments_lexer": "ipython3",
   "version": "3.8.8"
  }
 },
 "nbformat": 4,
 "nbformat_minor": 5
}
